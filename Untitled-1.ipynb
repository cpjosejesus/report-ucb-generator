{
 "cells": [
  {
   "cell_type": "markdown",
   "metadata": {},
   "source": [
    "# Import Required Libraries\n",
    "Import necessary libraries for data manipulation and visualization, including pandas, matplotlib, seaborn, and plotly."
   ]
  },
  {
   "cell_type": "code",
   "execution_count": null,
   "metadata": {},
   "outputs": [],
   "source": [
    "# Import necessary libraries for data manipulation and visualization\n",
    "import pandas as pd  # For data manipulation\n",
    "import matplotlib.pyplot as plt  # For creating static visualizations\n",
    "import seaborn as sns  # For enhanced visualizations\n",
    "import plotly.express as px  # For interactive visualizations\n",
    "\n",
    "# Configure default styles for plots\n",
    "sns.set(style=\"whitegrid\")  # Set Seaborn style for consistency in plots\n",
    "plt.rcParams[\"figure.figsize\"] = (10, 6)  # Set default figure size for Matplotlib plots"
   ]
  },
  {
   "cell_type": "markdown",
   "metadata": {},
   "source": [
    "# Load and Prepare Data\n",
    "Load the dataset containing course ratings and prepare it for visualization by cleaning missing values and organizing by subject."
   ]
  },
  {
   "cell_type": "code",
   "execution_count": null,
   "metadata": {},
   "outputs": [],
   "source": [
    "# Load the dataset containing course ratings\n",
    "data = pd.read_csv(\"course_ratings.csv\")  # Replace with the actual file path\n",
    "\n",
    "# Display the first few rows of the dataset to understand its structure\n",
    "display(data.head())\n",
    "\n",
    "# Check for missing values in the dataset\n",
    "missing_values = data.isnull().sum()\n",
    "print(\"Missing values per column:\\n\", missing_values)\n",
    "\n",
    "# Drop rows with missing values to ensure clean data for visualization\n",
    "data_cleaned = data.dropna()\n",
    "\n",
    "# Verify the dataset after cleaning\n",
    "print(\"Dataset shape after cleaning:\", data_cleaned.shape)\n",
    "\n",
    "# Organize the data by subject for easier visualization\n",
    "subjects = data_cleaned[\"Subject\"].unique()  # Get unique subjects\n",
    "print(\"Subjects in the dataset:\", subjects)\n",
    "\n",
    "# Display the cleaned dataset\n",
    "display(data_cleaned.head())"
   ]
  },
  {
   "cell_type": "markdown",
   "metadata": {},
   "source": [
    "# Create Helper Functions for Visualization\n",
    "Define functions to generate consistent visualizations for each attribute across different subjects."
   ]
  },
  {
   "cell_type": "code",
   "execution_count": null,
   "metadata": {},
   "outputs": [],
   "source": [
    "# Define helper functions for visualization\n",
    "\n",
    "def plot_attribute_by_subject(data, attribute, title, xlabel, ylabel):\n",
    "    \"\"\"\n",
    "    Creates a bar plot for a given attribute across different subjects.\n",
    "    \n",
    "    Parameters:\n",
    "        data (DataFrame): The dataset containing the ratings.\n",
    "        attribute (str): The column name of the attribute to visualize.\n",
    "        title (str): The title of the plot.\n",
    "        xlabel (str): The label for the x-axis.\n",
    "        ylabel (str): The label for the y-axis.\n",
    "    \"\"\"\n",
    "    plt.figure(figsize=(12, 6))\n",
    "    sns.barplot(\n",
    "        x=\"Subject\", \n",
    "        y=attribute, \n",
    "        data=data, \n",
    "        palette=\"viridis\", \n",
    "        ci=None\n",
    "    )\n",
    "    plt.title(title, fontsize=16)\n",
    "    plt.xlabel(xlabel, fontsize=14)\n",
    "    plt.ylabel(ylabel, fontsize=14)\n",
    "    plt.xticks(rotation=45, fontsize=12)\n",
    "    plt.yticks(fontsize=12)\n",
    "    plt.tight_layout()\n",
    "    plt.show()\n",
    "\n",
    "def generate_all_subject_graphics(data, attributes):\n",
    "    \"\"\"\n",
    "    Generates a bar plot for each attribute across all subjects.\n",
    "    \n",
    "    Parameters:\n",
    "        data (DataFrame): The dataset containing the ratings.\n",
    "        attributes (list): A list of column names representing the attributes to visualize.\n",
    "    \"\"\"\n",
    "    for attribute in attributes:\n",
    "        title = f\"Average {attribute} by Subject\"\n",
    "        xlabel = \"Subjects\"\n",
    "        ylabel = f\"Average {attribute}\"\n",
    "        plot_attribute_by_subject(data, attribute, title, xlabel, ylabel)"
   ]
  },
  {
   "cell_type": "markdown",
   "metadata": {},
   "source": [
    "# Generate Graphics for Each Course Attribute\n",
    "Create individual visualizations for each attribute (punctuality, environment, assignments, etc.) showing statistics for all subjects in a comparative format."
   ]
  },
  {
   "cell_type": "code",
   "execution_count": null,
   "metadata": {},
   "outputs": [],
   "source": [
    "# Generate Graphics for Each Course Attribute\n",
    "\n",
    "# Define the list of attributes to visualize\n",
    "attributes_to_visualize = [\"Punctuality\", \"Environment\", \"Assignments\"]  # Replace with actual column names in your dataset\n",
    "\n",
    "# Generate visualizations for each attribute\n",
    "generate_all_subject_graphics(data_cleaned, attributes_to_visualize)"
   ]
  },
  {
   "cell_type": "markdown",
   "metadata": {},
   "source": [
    "# Combine All Graphics in a Dashboard\n",
    "Use subplots or dashboard tools to arrange all the visualizations in a comprehensive view that allows for easy comparison across attributes and subjects."
   ]
  },
  {
   "cell_type": "code",
   "execution_count": null,
   "metadata": {},
   "outputs": [],
   "source": [
    "# Combine All Graphics in a Dashboard\n",
    "\n",
    "from matplotlib.gridspec import GridSpec\n",
    "\n",
    "def create_dashboard(data, attributes):\n",
    "    \"\"\"\n",
    "    Creates a dashboard with subplots for all attributes across subjects.\n",
    "    \n",
    "    Parameters:\n",
    "        data (DataFrame): The dataset containing the ratings.\n",
    "        attributes (list): A list of column names representing the attributes to visualize.\n",
    "    \"\"\"\n",
    "    num_attributes = len(attributes)\n",
    "    fig = plt.figure(figsize=(16, 4 * num_attributes))\n",
    "    grid = GridSpec(num_attributes, 1, figure=fig)\n",
    "    \n",
    "    for i, attribute in enumerate(attributes):\n",
    "        ax = fig.add_subplot(grid[i, 0])\n",
    "        sns.barplot(\n",
    "            x=\"Subject\", \n",
    "            y=attribute, \n",
    "            data=data, \n",
    "            palette=\"viridis\", \n",
    "            ci=None, \n",
    "            ax=ax\n",
    "        )\n",
    "        ax.set_title(f\"Average {attribute} by Subject\", fontsize=14)\n",
    "        ax.set_xlabel(\"Subjects\", fontsize=12)\n",
    "        ax.set_ylabel(f\"Average {attribute}\", fontsize=12)\n",
    "        ax.tick_params(axis='x', rotation=45, labelsize=10)\n",
    "        ax.tick_params(axis='y', labelsize=10)\n",
    "    \n",
    "    plt.tight_layout()\n",
    "    plt.show()\n",
    "\n",
    "# Create a dashboard for all attributes\n",
    "create_dashboard(data_cleaned, attributes_to_visualize)"
   ]
  }
 ],
 "metadata": {
  "language_info": {
   "name": "python"
  }
 },
 "nbformat": 4,
 "nbformat_minor": 2
}
